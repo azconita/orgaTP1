{
 "cells": [
  {
   "cell_type": "code",
   "execution_count": 3,
   "metadata": {
    "collapsed": true
   },
   "outputs": [],
   "source": [
    "import pandas as pd\n",
    "import numpy as np\n",
    "import seaborn as sns\n",
    "import matplotlib.pyplot as plt\n",
    "%matplotlib inline\n",
    "\n"
   ]
  },
  {
   "cell_type": "markdown",
   "metadata": {},
   "source": [
    "# Cargando dataSets\n"
   ]
  },
  {
   "cell_type": "code",
   "execution_count": 38,
   "metadata": {},
   "outputs": [],
   "source": [
    "properati_2013_08 = pd.read_csv('/home/jaz/Escritorio/jaz/fiuba/orga-de-datos-7506/tp1/properati-AR-2013-08-01-properties-sell.csv')\n",
    "properati_2013_09 = pd.read_csv('/home/jaz/Escritorio/jaz/fiuba/orga-de-datos-7506/tp1/properati-AR-2013-09-01-properties-sell.csv')\n",
    "properati_2013_10 = pd.read_csv('/home/jaz/Escritorio/jaz/fiuba/orga-de-datos-7506/tp1/properati-AR-2013-10-01-properties-sell.csv')\n",
    "properati_2013_11 = pd.read_csv('/home/jaz/Escritorio/jaz/fiuba/orga-de-datos-7506/tp1/properati-AR-2013-11-01-properties-sell.csv')\n",
    "properati_2013_12 = pd.read_csv('/home/jaz/Escritorio/jaz/fiuba/orga-de-datos-7506/tp1/properati-AR-2013-12-01-properties-sell.csv')\n",
    "\n",
    "properati_2014_01 = pd.read_csv('/home/jaz/Escritorio/jaz/fiuba/orga-de-datos-7506/tp1/properati-AR-2014-01-01-properties-sell.csv')\n",
    "properati_2014_02 = pd.read_csv('/home/jaz/Escritorio/jaz/fiuba/orga-de-datos-7506/tp1/properati-AR-2014-02-01-properties-sell.csv')\n",
    "properati_2014_03 = pd.read_csv('/home/jaz/Escritorio/jaz/fiuba/orga-de-datos-7506/tp1/properati-AR-2014-03-01-properties-sell.csv')\n",
    "properati_2014_04 = pd.read_csv('/home/jaz/Escritorio/jaz/fiuba/orga-de-datos-7506/tp1/properati-AR-2014-04-01-properties-sell.csv')\n",
    "properati_2014_05 = pd.read_csv('/home/jaz/Escritorio/jaz/fiuba/orga-de-datos-7506/tp1/properati-AR-2014-05-01-properties-sell.csv')\n",
    "properati_2014_06 = pd.read_csv('/home/jaz/Escritorio/jaz/fiuba/orga-de-datos-7506/tp1/properati-AR-2014-06-01-properties-sell.csv')\n",
    "properati_2014_07 = pd.read_csv('/home/jaz/Escritorio/jaz/fiuba/orga-de-datos-7506/tp1/properati-AR-2014-07-01-properties-sell.csv')\n",
    "properati_2014_08 = pd.read_csv('/home/jaz/Escritorio/jaz/fiuba/orga-de-datos-7506/tp1/properati-AR-2014-08-01-properties-sell.csv')\n",
    "properati_2014_09 = pd.read_csv('/home/jaz/Escritorio/jaz/fiuba/orga-de-datos-7506/tp1/properati-AR-2014-09-01-properties-sell.csv')\n",
    "properati_2014_10 = pd.read_csv('/home/jaz/Escritorio/jaz/fiuba/orga-de-datos-7506/tp1/properati-AR-2014-10-01-properties-sell.csv')\n",
    "properati_2014_11 = pd.read_csv('/home/jaz/Escritorio/jaz/fiuba/orga-de-datos-7506/tp1/properati-AR-2014-11-01-properties-sell.csv')\n",
    "properati_2014_12 = pd.read_csv('/home/jaz/Escritorio/jaz/fiuba/orga-de-datos-7506/tp1/properati-AR-2014-12-01-properties-sell.csv')\n",
    "\n",
    "properati_2015_01 = pd.read_csv('/home/jaz/Escritorio/jaz/fiuba/orga-de-datos-7506/tp1/properati-AR-2015-01-01-properties-sell.csv')\n",
    "properati_2015_02 = pd.read_csv('/home/jaz/Escritorio/jaz/fiuba/orga-de-datos-7506/tp1/properati-AR-2015-02-01-properties-sell.csv')\n",
    "properati_2015_03 = pd.read_csv('/home/jaz/Escritorio/jaz/fiuba/orga-de-datos-7506/tp1/properati-AR-2015-03-01-properties-sell.csv')\n",
    "properati_2015_04 = pd.read_csv('/home/jaz/Escritorio/jaz/fiuba/orga-de-datos-7506/tp1/properati-AR-2015-04-01-properties-sell.csv')\n",
    "properati_2015_05 = pd.read_csv('/home/jaz/Escritorio/jaz/fiuba/orga-de-datos-7506/tp1/properati-AR-2015-05-01-properties-sell.csv')\n",
    "properati_2015_06 = pd.read_csv('/home/jaz/Escritorio/jaz/fiuba/orga-de-datos-7506/tp1/properati-AR-2015-06-01-properties-sell.csv')\n",
    "properati_2015_07 = pd.read_csv('/home/jaz/Escritorio/jaz/fiuba/orga-de-datos-7506/tp1/properati-AR-2015-07-01-properties-sell.csv')\n",
    "properati_2015_08 = pd.read_csv('/home/jaz/Escritorio/jaz/fiuba/orga-de-datos-7506/tp1/properati-AR-2015-08-01-properties-sell.csv')\n",
    "properati_2015_09 = pd.read_csv('/home/jaz/Escritorio/jaz/fiuba/orga-de-datos-7506/tp1/properati-AR-2015-09-01-properties-sell.csv')\n",
    "properati_2015_10 = pd.read_csv('/home/jaz/Escritorio/jaz/fiuba/orga-de-datos-7506/tp1/properati-AR-2015-10-01-properties-sell.csv')\n",
    "properati_2015_11 = pd.read_csv('/home/jaz/Escritorio/jaz/fiuba/orga-de-datos-7506/tp1/properati-AR-2015-11-01-properties-sell.csv')\n",
    "properati_2015_12 = pd.read_csv('/home/jaz/Escritorio/jaz/fiuba/orga-de-datos-7506/tp1/properati-AR-2015-12-01-properties-sell.csv')\n",
    "\n",
    "properati_2016_01 = pd.read_csv('/home/jaz/Escritorio/jaz/fiuba/orga-de-datos-7506/tp1/properati-AR-2016-01-01-properties-sell.csv')\n",
    "properati_2016_02 = pd.read_csv('/home/jaz/Escritorio/jaz/fiuba/orga-de-datos-7506/tp1/properati-AR-2016-02-01-properties-sell.csv')\n",
    "properati_2016_03 = pd.read_csv('/home/jaz/Escritorio/jaz/fiuba/orga-de-datos-7506/tp1/properati-AR-2016-03-01-properties-sell.csv')\n",
    "properati_2016_04 = pd.read_csv('/home/jaz/Escritorio/jaz/fiuba/orga-de-datos-7506/tp1/properati-AR-2016-04-01-properties-sell.csv')\n",
    "properati_2016_05 = pd.read_csv('/home/jaz/Escritorio/jaz/fiuba/orga-de-datos-7506/tp1/properati-AR-2016-05-01-properties-sell.csv')\n",
    "properati_2016_06 = pd.read_csv('/home/jaz/Escritorio/jaz/fiuba/orga-de-datos-7506/tp1/properati-AR-2016-06-01-properties-sell.csv')\n",
    "properati_2016_07 = pd.read_csv('/home/jaz/Escritorio/jaz/fiuba/orga-de-datos-7506/tp1/properati-AR-2016-07-01-properties-sell.csv')\n",
    "properati_2016_08 = pd.read_csv('/home/jaz/Escritorio/jaz/fiuba/orga-de-datos-7506/tp1/properati-AR-2016-08-01-properties-sell.csv')\n",
    "properati_2016_09 = pd.read_csv('/home/jaz/Escritorio/jaz/fiuba/orga-de-datos-7506/tp1/properati-AR-2016-09-01-properties-sell.csv')\n",
    "properati_2016_10 = pd.read_csv('/home/jaz/Escritorio/jaz/fiuba/orga-de-datos-7506/tp1/properati-AR-2016-10-01-properties-sell.csv')\n",
    "properati_2016_11 = pd.read_csv('/home/jaz/Escritorio/jaz/fiuba/orga-de-datos-7506/tp1/properati-AR-2016-11-01-properties-sell.csv')\n",
    "properati_2016_12 = pd.read_csv('/home/jaz/Escritorio/jaz/fiuba/orga-de-datos-7506/tp1/properati-AR-2016-12-01-properties-sell.csv')\n",
    "\n",
    "properati_2017_01 = pd.read_csv('/home/jaz/Escritorio/jaz/fiuba/orga-de-datos-7506/tp1/properati-AR-2017-01-01-properties-sell.csv')\n",
    "properati_2017_02 = pd.read_csv('/home/jaz/Escritorio/jaz/fiuba/orga-de-datos-7506/tp1/properati-AR-2017-02-01-properties-sell.csv')\n",
    "properati_2017_03 = pd.read_csv('/home/jaz/Escritorio/jaz/fiuba/orga-de-datos-7506/tp1/properati-AR-2017-03-01-properties-sell.csv')\n",
    "properati_2017_04 = pd.read_csv('/home/jaz/Escritorio/jaz/fiuba/orga-de-datos-7506/tp1/properati-AR-2017-04-01-properties-sell.csv')\n",
    "properati_2017_05 = pd.read_csv('/home/jaz/Escritorio/jaz/fiuba/orga-de-datos-7506/tp1/properati-AR-2017-05-01-properties-sell.csv')\n",
    "properati_2017_06 = pd.read_csv('/home/jaz/Escritorio/jaz/fiuba/orga-de-datos-7506/tp1/properati-AR-2017-06-01-properties-sell.csv')\n",
    "properati_2017_07 = pd.read_csv('/home/jaz/Escritorio/jaz/fiuba/orga-de-datos-7506/tp1/properati-AR-2017-07-01-properties-sell.csv')\n",
    "properati_2017_08 = pd.read_csv('/home/jaz/Escritorio/jaz/fiuba/orga-de-datos-7506/tp1/properati-AR-2017-08-01-properties-sell.csv')\n"
   ]
  },
  {
   "cell_type": "markdown",
   "metadata": {},
   "source": [
    "# Filtrando datos erroneos\n",
    "\n"
   ]
  },
  {
   "cell_type": "code",
   "execution_count": 39,
   "metadata": {},
   "outputs": [
    {
     "data": {
      "text/plain": [
       "array(['created_on', 'operation', 'property_type', 'place_name',\n",
       "       'place_with_parent_names', 'geonames_id', 'lat-lon', 'lat', 'lon',\n",
       "       'price', 'currency', 'price_aprox_local_currency',\n",
       "       'price_aprox_usd', 'surface_in_m2', 'price_usd_per_m2', 'floor',\n",
       "       'rooms', 'expenses', 'properati_url', 'image_thumbnail'], dtype=object)"
      ]
     },
     "execution_count": 39,
     "metadata": {},
     "output_type": "execute_result"
    }
   ],
   "source": [
    "properati_2013_08.columns.values"
   ]
  },
  {
   "cell_type": "code",
   "execution_count": 41,
   "metadata": {},
   "outputs": [
    {
     "data": {
      "text/plain": [
       "47934"
      ]
     },
     "execution_count": 41,
     "metadata": {},
     "output_type": "execute_result"
    }
   ],
   "source": [
    "len(properati_2013_08) -len(properati_2013_08.loc[properati_2013_08.created_on.str.contains(\"2013-08\"),:])"
   ]
  },
  {
   "cell_type": "code",
   "execution_count": 42,
   "metadata": {},
   "outputs": [
    {
     "data": {
      "text/html": [
       "<div>\n",
       "<style>\n",
       "    .dataframe thead tr:only-child th {\n",
       "        text-align: right;\n",
       "    }\n",
       "\n",
       "    .dataframe thead th {\n",
       "        text-align: left;\n",
       "    }\n",
       "\n",
       "    .dataframe tbody tr th {\n",
       "        vertical-align: top;\n",
       "    }\n",
       "</style>\n",
       "<table border=\"1\" class=\"dataframe\">\n",
       "  <thead>\n",
       "    <tr style=\"text-align: right;\">\n",
       "      <th></th>\n",
       "      <th>created_on</th>\n",
       "      <th>operation</th>\n",
       "      <th>property_type</th>\n",
       "      <th>place_name</th>\n",
       "      <th>place_with_parent_names</th>\n",
       "      <th>geonames_id</th>\n",
       "      <th>lat-lon</th>\n",
       "      <th>lat</th>\n",
       "      <th>lon</th>\n",
       "      <th>price</th>\n",
       "      <th>currency</th>\n",
       "      <th>price_aprox_local_currency</th>\n",
       "      <th>price_aprox_usd</th>\n",
       "      <th>surface_in_m2</th>\n",
       "      <th>price_usd_per_m2</th>\n",
       "      <th>floor</th>\n",
       "      <th>rooms</th>\n",
       "      <th>expenses</th>\n",
       "      <th>properati_url</th>\n",
       "      <th>image_thumbnail</th>\n",
       "    </tr>\n",
       "  </thead>\n",
       "  <tbody>\n",
       "    <tr>\n",
       "      <th>47929</th>\n",
       "      <td>2013-07-31</td>\n",
       "      <td>sell</td>\n",
       "      <td>house</td>\n",
       "      <td>Punilla</td>\n",
       "      <td>|Argentina|Córdoba|Punilla|</td>\n",
       "      <td>3839996.0</td>\n",
       "      <td>-30.993383,-64.476546</td>\n",
       "      <td>-30.993383</td>\n",
       "      <td>-64.476546</td>\n",
       "      <td>NaN</td>\n",
       "      <td>NaN</td>\n",
       "      <td>NaN</td>\n",
       "      <td>NaN</td>\n",
       "      <td>165.0</td>\n",
       "      <td>NaN</td>\n",
       "      <td>NaN</td>\n",
       "      <td>2.0</td>\n",
       "      <td>NaN</td>\n",
       "      <td>http://www.properati.com.ar/916q_venta_casa_pu...</td>\n",
       "      <td>http://cf-thumbs.properati.com.ar/7oKQeZ25ytXv...</td>\n",
       "    </tr>\n",
       "    <tr>\n",
       "      <th>47930</th>\n",
       "      <td>2013-07-31</td>\n",
       "      <td>sell</td>\n",
       "      <td>apartment</td>\n",
       "      <td>Monte Hermoso</td>\n",
       "      <td>|Argentina|Buenos Aires Costa Atlántica|Monte ...</td>\n",
       "      <td>3843843.0</td>\n",
       "      <td>-38.987734,-61.313034</td>\n",
       "      <td>-38.987734</td>\n",
       "      <td>-61.313034</td>\n",
       "      <td>NaN</td>\n",
       "      <td>NaN</td>\n",
       "      <td>NaN</td>\n",
       "      <td>NaN</td>\n",
       "      <td>44.0</td>\n",
       "      <td>NaN</td>\n",
       "      <td>NaN</td>\n",
       "      <td>1.0</td>\n",
       "      <td>NaN</td>\n",
       "      <td>http://www.properati.com.ar/916r_venta_departa...</td>\n",
       "      <td>http://cf-thumbs.properati.com.ar/HhyHU3F27e_z...</td>\n",
       "    </tr>\n",
       "    <tr>\n",
       "      <th>47931</th>\n",
       "      <td>2013-07-31</td>\n",
       "      <td>sell</td>\n",
       "      <td>house</td>\n",
       "      <td>San Salvador de Jujuy</td>\n",
       "      <td>|Argentina|Jujuy|San Salvador de Jujuy|</td>\n",
       "      <td>3836564.0</td>\n",
       "      <td>-24.210193,-65.261665</td>\n",
       "      <td>-24.210193</td>\n",
       "      <td>-65.261665</td>\n",
       "      <td>450000.0</td>\n",
       "      <td>ARS</td>\n",
       "      <td>449999.94</td>\n",
       "      <td>84143.69</td>\n",
       "      <td>180.0</td>\n",
       "      <td>467.464944</td>\n",
       "      <td>NaN</td>\n",
       "      <td>3.0</td>\n",
       "      <td>NaN</td>\n",
       "      <td>http://www.properati.com.ar/916s_venta_casa_sa...</td>\n",
       "      <td>http://cf-thumbs.properati.com.ar/vPdSnbNDfMRu...</td>\n",
       "    </tr>\n",
       "    <tr>\n",
       "      <th>47932</th>\n",
       "      <td>2013-07-31</td>\n",
       "      <td>sell</td>\n",
       "      <td>apartment</td>\n",
       "      <td>Lanús</td>\n",
       "      <td>|Argentina|Bs.As. G.B.A. Zona Sur|Lanús|</td>\n",
       "      <td>3432134.0</td>\n",
       "      <td>-34.701329,-58.389497</td>\n",
       "      <td>-34.701329</td>\n",
       "      <td>-58.389497</td>\n",
       "      <td>83000.0</td>\n",
       "      <td>USD</td>\n",
       "      <td>443883.49</td>\n",
       "      <td>83000.00</td>\n",
       "      <td>40.0</td>\n",
       "      <td>2075.000000</td>\n",
       "      <td>NaN</td>\n",
       "      <td>1.0</td>\n",
       "      <td>NaN</td>\n",
       "      <td>http://www.properati.com.ar/916t_venta_departa...</td>\n",
       "      <td>http://cf-thumbs.properati.com.ar/hErcU0j6FD73...</td>\n",
       "    </tr>\n",
       "    <tr>\n",
       "      <th>47933</th>\n",
       "      <td>2013-07-31</td>\n",
       "      <td>sell</td>\n",
       "      <td>apartment</td>\n",
       "      <td>Puerto Madero</td>\n",
       "      <td>|Argentina|Capital Federal|Puerto Madero|</td>\n",
       "      <td>3429760.0</td>\n",
       "      <td>-34.6175,-58.361931</td>\n",
       "      <td>-34.617500</td>\n",
       "      <td>-58.361931</td>\n",
       "      <td>349000.0</td>\n",
       "      <td>USD</td>\n",
       "      <td>1866449.89</td>\n",
       "      <td>349000.00</td>\n",
       "      <td>65.0</td>\n",
       "      <td>5369.230769</td>\n",
       "      <td>NaN</td>\n",
       "      <td>1.0</td>\n",
       "      <td>NaN</td>\n",
       "      <td>http://www.properati.com.ar/916w_venta_departa...</td>\n",
       "      <td>http://cf-thumbs.properati.com.ar/JEoPQ2Fj9yQj...</td>\n",
       "    </tr>\n",
       "  </tbody>\n",
       "</table>\n",
       "</div>"
      ],
      "text/plain": [
       "       created_on operation property_type             place_name  \\\n",
       "47929  2013-07-31      sell         house                Punilla   \n",
       "47930  2013-07-31      sell     apartment          Monte Hermoso   \n",
       "47931  2013-07-31      sell         house  San Salvador de Jujuy   \n",
       "47932  2013-07-31      sell     apartment                  Lanús   \n",
       "47933  2013-07-31      sell     apartment          Puerto Madero   \n",
       "\n",
       "                                 place_with_parent_names  geonames_id  \\\n",
       "47929                        |Argentina|Córdoba|Punilla|    3839996.0   \n",
       "47930  |Argentina|Buenos Aires Costa Atlántica|Monte ...    3843843.0   \n",
       "47931            |Argentina|Jujuy|San Salvador de Jujuy|    3836564.0   \n",
       "47932           |Argentina|Bs.As. G.B.A. Zona Sur|Lanús|    3432134.0   \n",
       "47933          |Argentina|Capital Federal|Puerto Madero|    3429760.0   \n",
       "\n",
       "                     lat-lon        lat        lon     price currency  \\\n",
       "47929  -30.993383,-64.476546 -30.993383 -64.476546       NaN      NaN   \n",
       "47930  -38.987734,-61.313034 -38.987734 -61.313034       NaN      NaN   \n",
       "47931  -24.210193,-65.261665 -24.210193 -65.261665  450000.0      ARS   \n",
       "47932  -34.701329,-58.389497 -34.701329 -58.389497   83000.0      USD   \n",
       "47933    -34.6175,-58.361931 -34.617500 -58.361931  349000.0      USD   \n",
       "\n",
       "       price_aprox_local_currency  price_aprox_usd  surface_in_m2  \\\n",
       "47929                         NaN              NaN          165.0   \n",
       "47930                         NaN              NaN           44.0   \n",
       "47931                   449999.94         84143.69          180.0   \n",
       "47932                   443883.49         83000.00           40.0   \n",
       "47933                  1866449.89        349000.00           65.0   \n",
       "\n",
       "       price_usd_per_m2  floor  rooms expenses  \\\n",
       "47929               NaN    NaN    2.0      NaN   \n",
       "47930               NaN    NaN    1.0      NaN   \n",
       "47931        467.464944    NaN    3.0      NaN   \n",
       "47932       2075.000000    NaN    1.0      NaN   \n",
       "47933       5369.230769    NaN    1.0      NaN   \n",
       "\n",
       "                                           properati_url  \\\n",
       "47929  http://www.properati.com.ar/916q_venta_casa_pu...   \n",
       "47930  http://www.properati.com.ar/916r_venta_departa...   \n",
       "47931  http://www.properati.com.ar/916s_venta_casa_sa...   \n",
       "47932  http://www.properati.com.ar/916t_venta_departa...   \n",
       "47933  http://www.properati.com.ar/916w_venta_departa...   \n",
       "\n",
       "                                         image_thumbnail  \n",
       "47929  http://cf-thumbs.properati.com.ar/7oKQeZ25ytXv...  \n",
       "47930  http://cf-thumbs.properati.com.ar/HhyHU3F27e_z...  \n",
       "47931  http://cf-thumbs.properati.com.ar/vPdSnbNDfMRu...  \n",
       "47932  http://cf-thumbs.properati.com.ar/hErcU0j6FD73...  \n",
       "47933  http://cf-thumbs.properati.com.ar/JEoPQ2Fj9yQj...  "
      ]
     },
     "execution_count": 42,
     "metadata": {},
     "output_type": "execute_result"
    }
   ],
   "source": [
    "#hay 97934 valores que no corresponden al mes 08 de 2013\n",
    "properati_2013_08.loc[ properati_2013_08.created_on.str.contains(\"2013-08\")== False,:].tail()"
   ]
  },
  {
   "cell_type": "code",
   "execution_count": 43,
   "metadata": {
    "collapsed": true
   },
   "outputs": [],
   "source": [
    "\n",
    "properati_2013_08 = properati_2013_08.loc[ properati_2013_08.created_on.str.contains(\"2013-08\"),:]\n",
    "properati_2013_09 = properati_2013_09.loc[ properati_2013_09.created_on.str.contains(\"2013-09\"),:]\n",
    "properati_2013_10 = properati_2013_10.loc[ properati_2013_10.created_on.str.contains(\"2013-10\"),:]\n",
    "properati_2013_11 = properati_2013_11.loc[ properati_2013_11.created_on.str.contains(\"2013-11\"),:]\n",
    "properati_2013_12 = properati_2013_12.loc[ properati_2013_12.created_on.str.contains(\"2013-12\"),:]\n",
    "\n",
    "properati_2014_01 = properati_2014_01.loc[ properati_2014_01.created_on.str.contains(\"2014-01\"),:]\n",
    "properati_2014_02 = properati_2014_02.loc[ properati_2014_02.created_on.str.contains(\"2014-02\"),:]\n",
    "properati_2014_03 = properati_2014_03.loc[ properati_2014_03.created_on.str.contains(\"2014-03\"),:]\n",
    "properati_2014_04 = properati_2014_04.loc[ properati_2014_04.created_on.str.contains(\"2014-04\"),:]\n",
    "properati_2014_05 = properati_2014_05.loc[ properati_2014_05.created_on.str.contains(\"2014-05\"),:]\n",
    "properati_2014_06 = properati_2014_06.loc[ properati_2014_06.created_on.str.contains(\"2014-06\"),:]\n",
    "properati_2014_07 = properati_2014_07.loc[ properati_2014_07.created_on.str.contains(\"2014-07\"),:]\n",
    "properati_2014_08 = properati_2014_08.loc[ properati_2014_08.created_on.str.contains(\"2014-08\"),:]\n",
    "properati_2014_09 = properati_2014_09.loc[ properati_2014_09.created_on.str.contains(\"2014-09\"),:]\n",
    "properati_2014_10 = properati_2014_10.loc[ properati_2014_10.created_on.str.contains(\"2014-10\"),:]\n",
    "properati_2014_11 = properati_2014_11.loc[ properati_2014_11.created_on.str.contains(\"2014-11\"),:]\n",
    "properati_2014_12 = properati_2014_12.loc[ properati_2014_12.created_on.str.contains(\"2014-12\"),:]\n",
    "\n",
    "properati_2015_01 = properati_2015_01.loc[ properati_2015_01.created_on.str.contains(\"2015-01\"),:]\n",
    "properati_2015_02 = properati_2015_02.loc[ properati_2015_02.created_on.str.contains(\"2015-02\"),:]\n",
    "properati_2015_03 = properati_2015_03.loc[ properati_2015_03.created_on.str.contains(\"2015-03\"),:]\n",
    "properati_2015_04 = properati_2015_04.loc[ properati_2015_04.created_on.str.contains(\"2015-04\"),:]\n",
    "properati_2015_05 = properati_2015_05.loc[ properati_2015_05.created_on.str.contains(\"2015-05\"),:]\n",
    "properati_2015_06 = properati_2015_06.loc[ properati_2015_06.created_on.str.contains(\"2015-06\"),:]\n",
    "properati_2015_07 = properati_2015_07.loc[ properati_2015_07.created_on.str.contains(\"2015-07\"),:]\n",
    "properati_2015_08 = properati_2015_08.loc[ properati_2015_08.created_on.str.contains(\"2015-08\"),:]\n",
    "properati_2015_09 = properati_2015_09.loc[ properati_2015_09.created_on.str.contains(\"2015-09\"),:]\n",
    "properati_2015_10 = properati_2015_10.loc[ properati_2015_10.created_on.str.contains(\"2015-10\"),:]\n",
    "properati_2015_11 = properati_2015_11.loc[ properati_2015_11.created_on.str.contains(\"2015-11\"),:]\n",
    "properati_2015_12 = properati_2015_12.loc[ properati_2015_12.created_on.str.contains(\"2015-12\"),:]\n",
    "\n",
    "properati_2016_01 = properati_2016_01.loc[ properati_2016_01.created_on.str.contains(\"2016-01\"),:]\n",
    "properati_2016_02 = properati_2016_02.loc[ properati_2016_02.created_on.str.contains(\"2016-02\"),:]\n",
    "properati_2016_03 = properati_2016_03.loc[ properati_2016_03.created_on.str.contains(\"2016-03\"),:]\n",
    "properati_2016_04 = properati_2016_04.loc[ properati_2016_04.created_on.str.contains(\"2016-04\"),:]\n",
    "properati_2016_05 = properati_2016_05.loc[ properati_2016_05.created_on.str.contains(\"2016-05\"),:]\n",
    "properati_2016_06 = properati_2016_06.loc[ properati_2016_06.created_on.str.contains(\"2016-06\"),:]\n",
    "properati_2016_07 = properati_2016_07.loc[ properati_2016_07.created_on.str.contains(\"2016-07\"),:]\n",
    "properati_2016_08 = properati_2016_08.loc[ properati_2016_08.created_on.str.contains(\"2016-08\"),:]\n",
    "properati_2016_09 = properati_2016_09.loc[ properati_2016_09.created_on.str.contains(\"2016-09\"),:]\n",
    "properati_2016_10 = properati_2016_10.loc[ properati_2016_10.created_on.str.contains(\"2016-10\"),:]\n",
    "properati_2016_11 = properati_2016_11.loc[ properati_2016_11.created_on.str.contains(\"2016-11\"),:]\n",
    "properati_2016_12 = properati_2016_12.loc[ properati_2016_12.created_on.str.contains(\"2016-12\"),:]\n",
    "\n",
    "properati_2017_01 = properati_2017_01.loc[ properati_2017_01.created_on.str.contains(\"2017-01\"),:]\n",
    "properati_2017_02 = properati_2017_02.loc[ properati_2017_02.created_on.str.contains(\"2017-02\"),:]\n",
    "properati_2017_03 = properati_2017_03.loc[ properati_2017_03.created_on.str.contains(\"2017-03\"),:]\n",
    "properati_2017_04 = properati_2017_04.loc[ properati_2017_04.created_on.str.contains(\"2017-04\"),:]\n",
    "properati_2017_05 = properati_2017_05.loc[ properati_2017_05.created_on.str.contains(\"2017-05\"),:]\n",
    "properati_2017_06 = properati_2017_06.loc[ properati_2017_06.created_on.str.contains(\"2017-06\"),:]\n",
    "properati_2017_07 = properati_2017_07.loc[ properati_2017_07.created_on.str.contains(\"2017-07\"),:]\n",
    "properati_2017_08 = properati_2017_08.loc[ properati_2017_08.created_on.str.contains(\"2017-08\"),:]"
   ]
  },
  {
   "cell_type": "code",
   "execution_count": 11,
   "metadata": {},
   "outputs": [
    {
     "data": {
      "text/plain": [
       "True"
      ]
     },
     "execution_count": 11,
     "metadata": {},
     "output_type": "execute_result"
    }
   ],
   "source": [
    "#No existen propiedades publicadas mas de una vez para distintos meses\n",
    "\n",
    "interseccion = pd.merge(properati_2014_05,properati_2014_06, how='inner', on=['operation', 'property_type', 'place_name',\n",
    "       'place_with_parent_names', 'geonames_id', 'lat-lon', 'lat', 'lon',\n",
    "       'price', 'currency', 'price_aprox_local_currency',\n",
    "       'price_aprox_usd', 'surface_in_m2', 'price_usd_per_m2', 'floor',\n",
    "       'rooms', 'expenses', 'properati_url', 'image_thumbnail'])\n",
    "len(interseccion) == 0"
   ]
  },
  {
   "cell_type": "code",
   "execution_count": 12,
   "metadata": {},
   "outputs": [],
   "source": [
    "#Como no hay valores repetidos los podemos concatenar en un único dataframe\n",
    "\n",
    "properati = pd.concat([properati_2013_08,properati_2013_09,properati_2013_10,properati_2013_11,\n",
    "                        properati_2013_12,properati_2014_01,properati_2014_02,properati_2014_03,\n",
    "                        properati_2014_04,properati_2014_05,properati_2014_06,properati_2014_07,\n",
    "                        properati_2014_08,properati_2014_09,properati_2014_10,properati_2014_11,\n",
    "                        properati_2014_12,properati_2015_01,properati_2015_02,properati_2015_03,\n",
    "                        properati_2015_04,properati_2015_05,properati_2015_06,properati_2015_07,\n",
    "                        properati_2015_08,properati_2015_09,properati_2015_10,properati_2015_11,\n",
    "                        properati_2015_12,properati_2016_01,properati_2016_02,properati_2016_03,\n",
    "                        properati_2016_04,properati_2016_05,properati_2016_06,properati_2016_07,\n",
    "                        properati_2016_08,properati_2016_09,properati_2016_10,properati_2016_11,\n",
    "                        properati_2016_12,properati_2017_01,properati_2017_02,properati_2017_03,\n",
    "                        properati_2017_04,properati_2017_05,properati_2017_06,properati_2017_07,\n",
    "                        properati_2017_08])\n"
   ]
  },
  {
   "cell_type": "code",
   "execution_count": 13,
   "metadata": {},
   "outputs": [
    {
     "data": {
      "text/html": [
       "<div>\n",
       "<style>\n",
       "    .dataframe thead tr:only-child th {\n",
       "        text-align: right;\n",
       "    }\n",
       "\n",
       "    .dataframe thead th {\n",
       "        text-align: left;\n",
       "    }\n",
       "\n",
       "    .dataframe tbody tr th {\n",
       "        vertical-align: top;\n",
       "    }\n",
       "</style>\n",
       "<table border=\"1\" class=\"dataframe\">\n",
       "  <thead>\n",
       "    <tr style=\"text-align: right;\">\n",
       "      <th></th>\n",
       "      <th>country_name</th>\n",
       "      <th>created_on</th>\n",
       "      <th>currency</th>\n",
       "      <th>description</th>\n",
       "      <th>expenses</th>\n",
       "      <th>extra</th>\n",
       "      <th>floor</th>\n",
       "      <th>geonames_id</th>\n",
       "      <th>id</th>\n",
       "      <th>image_thumbnail</th>\n",
       "      <th>...</th>\n",
       "      <th>price_per_m2</th>\n",
       "      <th>price_usd_per_m2</th>\n",
       "      <th>properati_url</th>\n",
       "      <th>property_type</th>\n",
       "      <th>rooms</th>\n",
       "      <th>state_name</th>\n",
       "      <th>surface_covered_in_m2</th>\n",
       "      <th>surface_in_m2</th>\n",
       "      <th>surface_total_in_m2</th>\n",
       "      <th>title</th>\n",
       "    </tr>\n",
       "  </thead>\n",
       "  <tbody>\n",
       "    <tr>\n",
       "      <th>42637</th>\n",
       "      <td>Argentina</td>\n",
       "      <td>2016-10-24</td>\n",
       "      <td>NaN</td>\n",
       "      <td>Corredor Responsable: Caroline Hogner - CCI St...</td>\n",
       "      <td>NaN</td>\n",
       "      <td>NaN</td>\n",
       "      <td>NaN</td>\n",
       "      <td>3836277.0</td>\n",
       "      <td>7a404976e438bcc361683bcc36f8616c10383eb8</td>\n",
       "      <td>https://thumbs4.properati.com/9/CzKWJtdCuIru6g...</td>\n",
       "      <td>...</td>\n",
       "      <td>NaN</td>\n",
       "      <td>NaN</td>\n",
       "      <td>http://www.properati.com.ar/12pjl_venta_depart...</td>\n",
       "      <td>apartment</td>\n",
       "      <td>3.0</td>\n",
       "      <td>Santa Fe</td>\n",
       "      <td>NaN</td>\n",
       "      <td>NaN</td>\n",
       "      <td>NaN</td>\n",
       "      <td>VENDE DEPARTAMENTO 2 DORM., 1 ESCRITORIO Y TER...</td>\n",
       "    </tr>\n",
       "    <tr>\n",
       "      <th>36834</th>\n",
       "      <td>Argentina</td>\n",
       "      <td>2016-09-05</td>\n",
       "      <td>ARS</td>\n",
       "      <td>CODIGO:  ubicado en: Lavalle -  Publicado por:...</td>\n",
       "      <td>NaN</td>\n",
       "      <td>NaN</td>\n",
       "      <td>NaN</td>\n",
       "      <td>3864331.0</td>\n",
       "      <td>9b4931e9ea958370e78f924d72df110e2ae1213c</td>\n",
       "      <td>https://thumbs4.properati.com/0/x1aaUyw9AMInY8...</td>\n",
       "      <td>...</td>\n",
       "      <td>NaN</td>\n",
       "      <td>NaN</td>\n",
       "      <td>http://www.properati.com.ar/116kp_venta_casa_b...</td>\n",
       "      <td>house</td>\n",
       "      <td>NaN</td>\n",
       "      <td>Córdoba</td>\n",
       "      <td>NaN</td>\n",
       "      <td>NaN</td>\n",
       "      <td>NaN</td>\n",
       "      <td>Jorge Goapper Propiedades MP 04-4362 VENDE EN ...</td>\n",
       "    </tr>\n",
       "    <tr>\n",
       "      <th>61047</th>\n",
       "      <td>Argentina</td>\n",
       "      <td>2017-04-20</td>\n",
       "      <td>NaN</td>\n",
       "      <td>Se encuentra ubicado en el  barrio  de Nueva C...</td>\n",
       "      <td>900</td>\n",
       "      <td>NaN</td>\n",
       "      <td>NaN</td>\n",
       "      <td>3860259.0</td>\n",
       "      <td>4deec6dc7789f9e0e56a669719527e1023fc5e33</td>\n",
       "      <td>https://thumbs4.properati.com/3/l5A0KrE8suT9Hj...</td>\n",
       "      <td>...</td>\n",
       "      <td>NaN</td>\n",
       "      <td>NaN</td>\n",
       "      <td>http://www.properati.com.ar/17fwx_venta_depart...</td>\n",
       "      <td>apartment</td>\n",
       "      <td>2.0</td>\n",
       "      <td>Córdoba</td>\n",
       "      <td>43.0</td>\n",
       "      <td>NaN</td>\n",
       "      <td>60.0</td>\n",
       "      <td>Departamento venta</td>\n",
       "    </tr>\n",
       "  </tbody>\n",
       "</table>\n",
       "<p>3 rows × 29 columns</p>\n",
       "</div>"
      ],
      "text/plain": [
       "      country_name  created_on currency  \\\n",
       "42637    Argentina  2016-10-24      NaN   \n",
       "36834    Argentina  2016-09-05      ARS   \n",
       "61047    Argentina  2017-04-20      NaN   \n",
       "\n",
       "                                             description expenses extra  \\\n",
       "42637  Corredor Responsable: Caroline Hogner - CCI St...      NaN   NaN   \n",
       "36834  CODIGO:  ubicado en: Lavalle -  Publicado por:...      NaN   NaN   \n",
       "61047  Se encuentra ubicado en el  barrio  de Nueva C...      900   NaN   \n",
       "\n",
       "       floor  geonames_id                                        id  \\\n",
       "42637    NaN    3836277.0  7a404976e438bcc361683bcc36f8616c10383eb8   \n",
       "36834    NaN    3864331.0  9b4931e9ea958370e78f924d72df110e2ae1213c   \n",
       "61047    NaN    3860259.0  4deec6dc7789f9e0e56a669719527e1023fc5e33   \n",
       "\n",
       "                                         image_thumbnail  \\\n",
       "42637  https://thumbs4.properati.com/9/CzKWJtdCuIru6g...   \n",
       "36834  https://thumbs4.properati.com/0/x1aaUyw9AMInY8...   \n",
       "61047  https://thumbs4.properati.com/3/l5A0KrE8suT9Hj...   \n",
       "\n",
       "                             ...                          price_per_m2  \\\n",
       "42637                        ...                                   NaN   \n",
       "36834                        ...                                   NaN   \n",
       "61047                        ...                                   NaN   \n",
       "\n",
       "      price_usd_per_m2                                      properati_url  \\\n",
       "42637              NaN  http://www.properati.com.ar/12pjl_venta_depart...   \n",
       "36834              NaN  http://www.properati.com.ar/116kp_venta_casa_b...   \n",
       "61047              NaN  http://www.properati.com.ar/17fwx_venta_depart...   \n",
       "\n",
       "      property_type rooms state_name  surface_covered_in_m2  surface_in_m2  \\\n",
       "42637     apartment   3.0   Santa Fe                    NaN            NaN   \n",
       "36834         house   NaN    Córdoba                    NaN            NaN   \n",
       "61047     apartment   2.0    Córdoba                   43.0            NaN   \n",
       "\n",
       "       surface_total_in_m2                                              title  \n",
       "42637                  NaN  VENDE DEPARTAMENTO 2 DORM., 1 ESCRITORIO Y TER...  \n",
       "36834                  NaN  Jorge Goapper Propiedades MP 04-4362 VENDE EN ...  \n",
       "61047                 60.0                                 Departamento venta  \n",
       "\n",
       "[3 rows x 29 columns]"
      ]
     },
     "execution_count": 13,
     "metadata": {},
     "output_type": "execute_result"
    }
   ],
   "source": [
    "properati.sample(3)"
   ]
  },
  {
   "cell_type": "code",
   "execution_count": 14,
   "metadata": {},
   "outputs": [
    {
     "data": {
      "text/plain": [
       "country_name                   object\n",
       "created_on                     object\n",
       "currency                       object\n",
       "description                    object\n",
       "expenses                       object\n",
       "extra                          object\n",
       "floor                         float64\n",
       "geonames_id                   float64\n",
       "id                             object\n",
       "image_thumbnail                object\n",
       "lat                           float64\n",
       "lat-lon                        object\n",
       "lon                           float64\n",
       "operation                      object\n",
       "place_name                     object\n",
       "place_with_parent_names        object\n",
       "price                         float64\n",
       "price_aprox_local_currency    float64\n",
       "price_aprox_usd               float64\n",
       "price_per_m2                  float64\n",
       "price_usd_per_m2              float64\n",
       "properati_url                  object\n",
       "property_type                  object\n",
       "rooms                         float64\n",
       "state_name                     object\n",
       "surface_covered_in_m2         float64\n",
       "surface_in_m2                 float64\n",
       "surface_total_in_m2           float64\n",
       "title                          object\n",
       "dtype: object"
      ]
     },
     "execution_count": 14,
     "metadata": {},
     "output_type": "execute_result"
    }
   ],
   "source": [
    "properati.dtypes\n"
   ]
  },
  {
   "cell_type": "code",
   "execution_count": 17,
   "metadata": {},
   "outputs": [],
   "source": [
    "# Convert Date, add Year, Weekday and Hour columns\n",
    "import calendar\n",
    "properati['created_on'] = pd.to_datetime(properati['created_on'])"
   ]
  },
  {
   "cell_type": "markdown",
   "metadata": {
    "collapsed": true
   },
   "source": [
    "# que comience el análisis\n"
   ]
  },
  {
   "cell_type": "code",
   "execution_count": 44,
   "metadata": {},
   "outputs": [
    {
     "data": {
      "image/png": "[encoded data removed]",
      "text/plain": [
       "<matplotlib.figure.Figure at 0x7f9c90b957d0>"
      ]
     },
     "metadata": {},
     "output_type": "display_data"
    }
   ],
   "source": [
    "\n",
    "\n",
    "properati.groupby('property_type').mean()['price_usd_per_m2'].sort_values(ascending=False)[0:19].plot(kind='bar',figsize=(14,4));"
   ]
  },
  {
   "cell_type": "code",
   "execution_count": 46,
   "metadata": {},
   "outputs": [
    {
     "data": {
      "image/png": "[encoded data removed]",
      "text/plain": [
       "<matplotlib.figure.Figure at 0x7f9c94c09d50>"
      ]
     },
     "metadata": {},
     "output_type": "display_data"
    }
   ],
   "source": [
    "properati.groupby('state_name').mean()['price_usd_per_m2'].sort_values(ascending=False)[0:19].plot(kind='bar',figsize=(14,4));"
   ]
  },
  {
   "cell_type": "code",
   "execution_count": null,
   "metadata": {
    "collapsed": true
   },
   "outputs": [],
   "source": []
  },
  {
   "cell_type": "code",
   "execution_count": null,
   "metadata": {
    "collapsed": true
   },
   "outputs": [],
   "source": []
  },
  {
   "cell_type": "code",
   "execution_count": null,
   "metadata": {
    "collapsed": true
   },
   "outputs": [],
   "source": []
  },
  {
   "cell_type": "code",
   "execution_count": null,
   "metadata": {
    "collapsed": true
   },
   "outputs": [],
   "source": []
  },
  {
   "cell_type": "code",
   "execution_count": null,
   "metadata": {
    "collapsed": true
   },
   "outputs": [],
   "source": []
  },
  {
   "cell_type": "code",
   "execution_count": null,
   "metadata": {
    "collapsed": true
   },
   "outputs": [],
   "source": []
  }
 ],
 "metadata": {
  "kernelspec": {
   "display_name": "Python 2",
   "language": "python",
   "name": "python2"
  },
  "language_info": {
   "codemirror_mode": {
    "name": "ipython",
    "version": 2
   },
   "file_extension": ".py",
   "mimetype": "text/x-python",
   "name": "python",
   "nbconvert_exporter": "python",
   "pygments_lexer": "ipython2",
   "version": "2.7.13"
  }
 },
 "nbformat": 4,
 "nbformat_minor": 2
}
